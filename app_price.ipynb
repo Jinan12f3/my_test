{
 "cells": [
  {
   "cell_type": "markdown",
   "metadata": {
    "extensions": {
     "jupyter_dashboards": {
      "version": 1,
      "views": {
       "grid_default": {
        "col": 0,
        "height": 4,
        "hidden": false,
        "row": 0,
        "width": 4
       },
       "report_default": {}
      }
     }
    }
   },
   "source": [
    "## 人教口语"
   ]
  },
  {
   "cell_type": "markdown",
   "metadata": {
    "extensions": {
     "jupyter_dashboards": {
      "version": 1,
      "views": {
       "grid_default": {
        "col": 0,
        "height": 8,
        "hidden": false,
        "row": 4,
        "width": 12
       },
       "report_default": {}
      }
     }
    }
   },
   "source": [
    "### <center>初中全</center>\n",
    "\n",
    "|| 价格(~~原价~~) | 收费课程数 | 免费课程数 |有效期 | 教材单元数  |\n",
    "|:-------------:|:-------------:|:-------------:|:-------------:|:-------------:|:-----:|\n",
    "|七年级上| null | 0 | 2 | null | null |\n",
    "|七年级下| ￥25(~~30~~) | 2 | 0 | 1年 | 12 |\n",
    "|八年级上| ￥25(~~30~~) | 2 | 0 | 1年 | 10 |\n",
    "|八年级下| ￥25(~~30~~) | 2 | 0 | 1年 | 10 |\n",
    "|九年级全| **￥35(~~40~~)** | 2 | 0 | 1年 | 14 |\n",
    "\n"
   ]
  },
  {
   "cell_type": "markdown",
   "metadata": {
    "extensions": {
     "jupyter_dashboards": {
      "version": 1,
      "views": {
       "grid_default": {
        "col": 0,
        "height": 11,
        "hidden": false,
        "row": 12,
        "width": 12
       },
       "report_default": {}
      }
     }
    }
   },
   "source": [
    "### <center>小学全(PEP)</center>\n",
    "\n",
    "|| 价格(~~原价~~) | 收费课程数 | 免费课程数 |有效期 | 教材单元数  |\n",
    "|:-------------:|:-------------:|:-------------:|:-------------:|:-------------:|:-----:|\n",
    "|三年级上| ￥25(~~30~~) | 2 | 1 | 1年 | 6 |\n",
    "|三年级下| ￥25(~~30~~) | 3 | 0 | 1年 | 6 |\n",
    "|四年级上| ￥25(~~30~~) | 2 | 0 | 1年 | 6 |\n",
    "|四年级下| ￥25(~~30~~) | 4 | 0 | 1年 | 6 |\n",
    "|五年级上| null | 0 | 2 | null | null |\n",
    "|五年级下| ￥25(~~30~~) | 4 | 0 | 1年 | 6 |\n",
    "|六年级上| ￥25(~~30~~) | 1 | 0 | 1年 | 6 |\n",
    "|六年级下| null | 0 | 1 | null | null |"
   ]
  },
  {
   "cell_type": "markdown",
   "metadata": {
    "extensions": {
     "jupyter_dashboards": {
      "version": 1,
      "views": {
       "grid_default": {
        "col": 0,
        "height": 9,
        "hidden": false,
        "row": 23,
        "width": 12
       },
       "report_default": {}
      }
     }
    }
   },
   "source": [
    "### <center>小学全(新起点)</center>\n",
    "\n",
    "|| 价格(~~原价~~) | 收费课程数 | 免费课程数 |有效期 | 教材单元数  |\n",
    "|:-------------:|:-------------:|:-------------:|:-------------:|:-------------:|:-----:|\n",
    "|一年级上| ￥25(~~30~~) | 4 | 0 | 1年 | 7 |\n",
    "|二年级上| ￥25(~~30~~) | 4 | 1 | 1年 | 6 |\n",
    "|三年级上| ￥25(~~30~~) | 7 | 1 | 1年 | 8 |\n",
    "|四年级上| ￥25(~~30~~) | 3 | 1 | 1年 | 8 |\n",
    "|五年级上| ￥25(~~30~~) | 4 | 1 | 1年 | 8 |\n",
    "|六年级上| ￥25(~~30~~) | 4 | 1 | 1年 | 8 |\n"
   ]
  },
  {
   "cell_type": "markdown",
   "metadata": {
    "extensions": {
     "jupyter_dashboards": {
      "version": 1,
      "views": {
       "grid_default": {
        "col": 0,
        "height": 8,
        "hidden": false,
        "row": 32,
        "width": 12
       },
       "report_default": {}
      }
     }
    }
   },
   "source": [
    "### <center>小学全(精通)</center>\n",
    "\n",
    "|| 价格(~~原价~~) | 收费课程数 | 免费课程数 |有效期 | 教材单元数  |\n",
    "|:-------------:|:-------------:|:-------------:|:-------------:|:-------------:|:-----:|\n",
    "|三年级上| null | 0 | 2 | null | null |\n",
    "|四年级上| null | 0 | 4 | null | null |\n",
    "|五年级上| null | 0 | 4 | null | null |\n",
    "|六年级上| null | 0 | 0 | null | null |\n"
   ]
  },
  {
   "cell_type": "markdown",
   "metadata": {},
   "source": [
    " "
   ]
  },
  {
   "cell_type": "markdown",
   "metadata": {},
   "source": [
    "价格就只有九年级的跟其他的不同，然后这里面大部分的课程都不齐，一个版本大部分就只有几个单元做出了资源"
   ]
  },
  {
   "cell_type": "markdown",
   "metadata": {
    "extensions": {
     "jupyter_dashboards": {
      "version": 1,
      "views": {
       "grid_default": {
        "col": 4,
        "height": 4,
        "hidden": false,
        "row": 0,
        "width": 4
       },
       "report_default": {}
      }
     }
    }
   },
   "source": [
    "******"
   ]
  },
  {
   "cell_type": "markdown",
   "metadata": {
    "extensions": {
     "jupyter_dashboards": {
      "version": 1,
      "views": {
       "grid_default": {
        "col": 8,
        "height": 4,
        "hidden": false,
        "row": 0,
        "width": 4
       },
       "report_default": {}
      }
     }
    }
   },
   "source": [
    "## 人教点读"
   ]
  },
  {
   "cell_type": "markdown",
   "metadata": {
    "extensions": {
     "jupyter_dashboards": {
      "version": 1,
      "views": {
       "grid_default": {
        "col": 0,
        "height": 4,
        "hidden": false,
        "row": 40,
        "width": 4
       },
       "report_default": {}
      }
     }
    }
   },
   "source": [
    " "
   ]
  },
  {
   "cell_type": "markdown",
   "metadata": {
    "extensions": {
     "jupyter_dashboards": {
      "version": 1,
      "views": {
       "grid_default": {
        "col": 0,
        "height": 18,
        "hidden": false,
        "row": 44,
        "width": 12
       },
       "report_default": {}
      }
     }
    }
   },
   "source": [
    "### <center>语文(统编版)</center>\n",
    "\n",
    "\n",
    "|| 价格(~~原价~~) | 有效期 | 订购数  |\n",
    "|:-------------:|:-------------:|:-------------:|:-----:|\n",
    "|一年级上| ￥20(~~29~~) | 6个月 | 8225 |\n",
    "|一年级下| ￥20(~~29~~) | 6个月 | 6497 |\n",
    "|二年级上| ￥20(~~29~~) | 6个月 | 7429 |\n",
    "|总计||| 22151 |\n",
    "\n",
    "### <center>语文(人教版)</center>\n",
    "\n",
    "\n",
    "|| 价格(~~原价~~) | 有效期 | 订购数  |\n",
    "|:-------------:|:-------------:|:-------------:|:-----:|\n",
    "|二年级下| ￥20(~~29~~) | 6个月 | 6386 |\n",
    "|三年级上| ￥20(~~29~~) | 6个月 | 6577 |\n",
    "|三年级下| ￥20(~~29~~) | 6个月 | 6337 |\n",
    "|四年级上| ￥20(~~29~~) | 6个月 | 6510 |\n",
    "|四年级下| ￥20(~~29~~) | 6个月 | 6325 |\n",
    "|五年级上| ￥20(~~29~~) | 6个月 | 6460 |\n",
    "|五年级下| ￥20(~~29~~) | 6个月 | 6325 |\n",
    "|六年级上| ￥20(~~29~~) | 6个月 | 6411 |\n",
    "|六年级下| ￥20(~~29~~) | 6个月 | 6337 |\n",
    "|总计||| 57668 |\n",
    "\n",
    "<p></p>\n",
    "\n",
    "<center>这两个应该是同一个版本。。</center>"
   ]
  },
  {
   "cell_type": "markdown",
   "metadata": {
    "extensions": {
     "jupyter_dashboards": {
      "version": 1,
      "views": {
       "grid_default": {
        "col": 0,
        "height": 15,
        "hidden": false,
        "row": 62,
        "width": 12
       },
       "report_default": {}
      }
     }
    }
   },
   "source": [
    "### <center>英语(新起点)</center>\n",
    "\n",
    "\n",
    "|| 价格(~~原价~~) | 有效期 | 订购数  |\n",
    "|:-------------:|: ------------- :|:-------------:|:-----:|\n",
    "|一年级上| ￥20(~~29~~) | 6个月 | 7071 |\n",
    "|一年级下| ￥20(~~29~~) | 6个月 | 6429 |\n",
    "|二年级上| ￥20(~~29~~) | 6个月 | 6466 |\n",
    "|二年级下| ￥20(~~29~~) | 6个月 | 6337 |\n",
    "|三年级上| ￥20(~~29~~) | 6个月 | 6405 |\n",
    "|三年级下| ￥20(~~29~~) | 6个月 | 6324 |\n",
    "|四年级上| ￥20(~~29~~) | 6个月 | 6368 |\n",
    "|四年级下| ￥20(~~29~~) | 6个月 | 6318 |\n",
    "|五年级上| ￥20(~~29~~) | 6个月 | 6349 |\n",
    "|五年级下| ￥20(~~29~~) | 6个月 | 6318 |\n",
    "|六年级上| ￥20(~~29~~) | 6个月 | 6337 |\n",
    "|六年级下| ￥20(~~29~~) | 6个月 | 6343 |\n",
    "|总计|||77065|\n"
   ]
  },
  {
   "cell_type": "markdown",
   "metadata": {
    "extensions": {
     "jupyter_dashboards": {
      "version": 1,
      "views": {
       "grid_default": {
        "col": 0,
        "height": 11,
        "hidden": false,
        "row": 77,
        "width": 12
       },
       "report_default": {}
      }
     }
    }
   },
   "source": [
    "### <center>英语(PEP)</center>\n",
    "\n",
    "\n",
    "|| 价格(~~原价~~) | 有效期 | 订购数  |\n",
    "|:-------------:|:-------------:|:-------------:|:-----:|\n",
    "|三年级上| ￥20(~~29~~) | 6个月 | 1.32W |\n",
    "|三年级下| ￥20(~~29~~) | 6个月 | 6405 |\n",
    "|四年级上| ￥20(~~29~~) | 6个月 | 8157 |\n",
    "|四年级下| ￥20(~~29~~) | 6个月 | 6368 |\n",
    "|五年级上| ￥20(~~29~~) | 6个月 | 7966 |\n",
    "|五年级下| ￥20(~~29~~) | 6个月 | 6349 |\n",
    "|六年级上| ￥20(~~29~~) | 6个月 | 7380 |\n",
    "|六年级下| ￥20(~~29~~) | 6个月 | 6355 |\n",
    "|总计|||62180|\n"
   ]
  },
  {
   "cell_type": "markdown",
   "metadata": {
    "extensions": {
     "jupyter_dashboards": {
      "version": 1,
      "views": {
       "grid_default": {
        "col": 0,
        "height": 11,
        "hidden": false,
        "row": 88,
        "width": 12
       },
       "report_default": {}
      }
     }
    }
   },
   "source": [
    "### <center>英语(精通版)</center>\n",
    "\n",
    "\n",
    "|| 价格(~~原价~~) | 有效期 | 订购数  |\n",
    "|:-------------:|:-------------:|:-------------:|:-----:|\n",
    "|三年级上| ￥20(~~29~~) | 6个月 | 6528 |\n",
    "|三年级下| ￥20(~~29~~) | 6个月 | 6324 |\n",
    "|四年级上| ￥20(~~29~~) | 6个月 | 6374 |\n",
    "|四年级下| ￥20(~~29~~) | 6个月 | 6368 |\n",
    "|五年级上| ￥20(~~29~~) | 6个月 | 6362 |\n",
    "|五年级下| ￥20(~~29~~) | 6个月 | 6355 |\n",
    "|六年级上| ￥20(~~29~~) | 6个月 | 6355 |\n",
    "|六年级下| ￥20(~~29~~) | 6个月 | 6349 |\n",
    "|总计|||51015|"
   ]
  },
  {
   "cell_type": "markdown",
   "metadata": {},
   "source": [
    "  "
   ]
  },
  {
   "cell_type": "markdown",
   "metadata": {},
   "source": [
    " "
   ]
  },
  {
   "cell_type": "code",
   "execution_count": 19,
   "metadata": {
    "collapsed": false
   },
   "outputs": [
    {
     "name": "stdout",
     "output_type": "stream",
     "text": [
      "平均数： 6751.975\n",
      "总数： 270079\n",
      "标准差： 1148.66103546\n",
      "---------------------------------------------------\n",
      "计数结果：\n",
      "Counter({6337: 4, 6349: 3, 6355: 3, 6368: 3, 6405: 2, 6318: 2, 6324: 2, 6325: 2, 6528: 1, 6411: 1, 13200: 1, 6429: 1, 7966: 1, 7429: 1, 8225: 1, 6577: 1, 7071: 1, 6460: 1, 6466: 1, 6343: 1, 7380: 1, 6362: 1, 8157: 1, 6497: 1, 6374: 1, 6510: 1, 6386: 1})\n",
      "重复的数字共有： 8\n"
     ]
    }
   ],
   "source": [
    "import numpy as np\n",
    "from collections import Counter\n",
    "\n",
    "assumes = [\n",
    "                        8225, 6497, 7429, 6386, 6577, 6337, 6510, 6325, 6460, 6325, 6411, 6337,    # 语文\n",
    "                        7071, 6429, 6466, 6337, 6405, 6324, 6368, 6318, 6349, 6318, 6337, 6343,    # 英语 新起点\n",
    "                        13200, 6405, 8157, 6368, 7966, 6349, 7380, 6355,                                          # 英语 PEP\n",
    "                        6528, 6324, 6374, 6368, 6362, 6355, 6355, 6349                                             # 英语 精通版\n",
    "                  ]\n",
    "\n",
    "\n",
    "\n",
    "print \"平均数：\", np.mean(assumes)\n",
    "print \"总数：\", np.sum(assumes)\n",
    "print \"标准差：\", np.std(assumes)\n",
    "\n",
    "print \"---------------------------------------------------\"\n",
    "\n",
    "counter = Counter(assumes)\n",
    "print \"计数结果：\"\n",
    "print counter\n",
    "print \"重复的数字共有：\", len([c for c in counter.items() if c[1] >1])\n"
   ]
  },
  {
   "cell_type": "markdown",
   "metadata": {},
   "source": [
    "存在离散程度较低，以及重复数字较多的问题。\n",
    "\n",
    "从这个角度来看，数据真实性可能无法得到保证。"
   ]
  },
  {
   "cell_type": "code",
   "execution_count": 8,
   "metadata": {
    "collapsed": false
   },
   "outputs": [
    {
     "data": {
      "text/plain": [
       "<matplotlib.axes._subplots.AxesSubplot at 0xc9e8470>"
      ]
     },
     "execution_count": 8,
     "metadata": {},
     "output_type": "execute_result"
    },
    {
     "data": {
      "image/png": "[encoded data removed]",
      "text/plain": [
       "<matplotlib.figure.Figure at 0xb83de10>"
      ]
     },
     "metadata": {},
     "output_type": "display_data"
    }
   ],
   "source": [
    "import pandas as pd\n",
    "%matplotlib inline\n",
    "\n",
    "data = pd.Series(assumes)\n",
    "data.plot()"
   ]
  },
  {
   "cell_type": "markdown",
   "metadata": {},
   "source": [
    "总结了4个版本，订购量最高的都是第一个。分别是\n",
    "\n",
    "语文一年级上：8225，\n",
    "\n",
    "英语(新起点）一年级上：7071\n",
    "\n",
    "英语(PEP)： 1.32W\n",
    "\n",
    "英语(精通版)：6528\n",
    "\n",
    "这个符合实际。"
   ]
  },
  {
   "cell_type": "markdown",
   "metadata": {},
   "source": [
    "总的来说，他的订购数绝大部分集中在6000多左右的一个数量，数据离散较低，其中还有大量的重复数字。\n",
    "\n",
    "所以感觉订购量这里有可能不全是真实数据，只能作为参考。。\n",
    "\n",
    "可能是因为这个APP刚起步，要制造一个较高的值给我们看到，跟直播平台的人数一样的做法。"
   ]
  },
  {
   "cell_type": "markdown",
   "metadata": {},
   "source": [
    "  "
   ]
  }
 ],
 "metadata": {
  "extensions": {
   "jupyter_dashboards": {
    "activeView": "grid_default",
    "version": 1,
    "views": {
     "grid_default": {
      "cellMargin": 10,
      "defaultCellHeight": 20,
      "maxColumns": 12,
      "name": "grid",
      "type": "grid"
     },
     "report_default": {
      "name": "report",
      "type": "report"
     }
    }
   }
  },
  "kernelspec": {
   "display_name": "Python 2",
   "language": "python",
   "name": "python2"
  },
  "language_info": {
   "codemirror_mode": {
    "name": "ipython",
    "version": 2
   },
   "file_extension": ".py",
   "mimetype": "text/x-python",
   "name": "python",
   "nbconvert_exporter": "python",
   "pygments_lexer": "ipython2",
   "version": "2.7.11"
  }
 },
 "nbformat": 4,
 "nbformat_minor": 2
}
